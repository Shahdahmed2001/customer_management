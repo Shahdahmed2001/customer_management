{
 "cells": [
  {
   "cell_type": "code",
   "execution_count": 1,
   "id": "c91ccbce-81e8-4455-9d6e-f87084f2e305",
   "metadata": {},
   "outputs": [],
   "source": [
    "import pyodbc\n",
    "import pandas as pd"
   ]
  },
  {
   "cell_type": "code",
   "execution_count": 2,
   "id": "a84521f3-d095-48e0-b27d-eb2c792e9539",
   "metadata": {},
   "outputs": [],
   "source": [
    "from sqlalchemy import create_engine\n",
    "import urllib"
   ]
  },
  {
   "cell_type": "code",
   "execution_count": 3,
   "id": "a7a469e2-c7c2-48a7-9f32-9d104487f360",
   "metadata": {},
   "outputs": [
    {
     "name": "stdout",
     "output_type": "stream",
     "text": [
      "['SQL Server', 'ODBC Driver 17 for SQL Server', 'SQL Server Native Client RDA 11.0', 'Microsoft Access Driver (*.mdb, *.accdb)', 'Microsoft Excel Driver (*.xls, *.xlsx, *.xlsm, *.xlsb)', 'Microsoft Access Text Driver (*.txt, *.csv)']\n"
     ]
    }
   ],
   "source": [
    "import pyodbc\n",
    "print(pyodbc.drivers())"
   ]
  },
  {
   "cell_type": "code",
   "execution_count": 4,
   "id": "96b67b08-a356-42d9-a3b5-9a8c8700968d",
   "metadata": {},
   "outputs": [],
   "source": [
    "driver = 'ODBC Driver 17 for SQL Server'  \n",
    "server = 'SHAHD'   \n",
    "database = 'CustomerDataDB'\n",
    "\n",
    "\n",
    "connection_string = f'DRIVER={{{driver}}};SERVER={server};DATABASE={database};Trusted_Connection=yes;'"
   ]
  },
  {
   "cell_type": "code",
   "execution_count": 6,
   "id": "66d5bf37-af4d-4a32-b328-0e04d368136b",
   "metadata": {},
   "outputs": [
    {
     "name": "stdout",
     "output_type": "stream",
     "text": [
      "   CustomerID FirstName LastName                       Email     Phone  \\\n",
      "0           1     ayaat    ahmed     ayaat.ahmed@example.com  555-1111   \n",
      "1           2     shahd    ahmed     shahd.ahmed@example.com  555-2222   \n",
      "2           3    maryam  mohamed  maryam.mohamed@example.com  555-3333   \n",
      "3           4     renad  haytham   renad.haytham@example.com  555-4444   \n",
      "4           5     salma   ashraf    salma.ashraf@example.com  555-5555   \n",
      "\n",
      "         Address  \n",
      "0     123 Elm St  \n",
      "1     456 Oak St  \n",
      "2    789 Pine St  \n",
      "3  101 Maple Ave  \n",
      "4   202 Birch Rd  \n",
      "   TransactionID  CustomerID  InteractionID TransactionDate  Amount\n",
      "0              2           1              1      2024-09-01   100.0\n",
      "1              3           2              2      2024-09-02   250.0\n",
      "2              4           3              3      2024-09-03   300.0\n",
      "3              5           4              4      2024-09-04    50.0\n",
      "4              6           5              5      2024-09-05    75.0\n",
      "   InteractionID  CustomerID InteractionType        Date  \\\n",
      "0              1           1      Phone Call  2024-09-01   \n",
      "1              2           2           Email  2024-09-02   \n",
      "2              3           3         Meeting  2024-09-03   \n",
      "3              4           4      Phone Call  2024-09-04   \n",
      "4              5           5           Email  2024-09-05   \n",
      "\n",
      "                                  Notes  \n",
      "0        Discussed new product options.  \n",
      "1              Sent promotional offers.  \n",
      "2                 Reviewed past orders.  \n",
      "3  Followed up on a recent transaction.  \n",
      "4            Resolved customer inquiry.  \n"
     ]
    }
   ],
   "source": [
    "# URL encode the connection string\n",
    "params = urllib.parse.quote_plus(connection_string)\n",
    "# Create SQLAlchemy engine\n",
    "engine = create_engine(f'mssql+pyodbc:///?odbc_connect={params}')\n",
    "\n",
    "# DATA EXTRACTION\n",
    "try:\n",
    "    df_customers = pd.read_sql(\"SELECT * FROM Customer;\", engine)\n",
    "    print(df_customers.head())\n",
    "\n",
    "    df_transactions = pd.read_sql(\"SELECT * FROM trnsaction;\", engine)\n",
    "    print(df_transactions.head())\n",
    "\n",
    "    df_Interaction = pd.read_sql(\"SELECT * FROM Interaction;\", engine)\n",
    "    print(df_Interaction.head())\n",
    "\n",
    "    \n",
    "except Exception as e:\n",
    "    print(\"An error occurred:\", e)\n"
   ]
  },
  {
   "cell_type": "code",
   "execution_count": 7,
   "id": "bce15fa4-f0bd-4f65-998a-708f332f1687",
   "metadata": {},
   "outputs": [
    {
     "name": "stdout",
     "output_type": "stream",
     "text": [
      "CustomerID    0\n",
      "FirstName     0\n",
      "LastName      0\n",
      "Email         0\n",
      "Phone         0\n",
      "Address       0\n",
      "dtype: int64\n",
      "TransactionID      0\n",
      "CustomerID         0\n",
      "InteractionID      0\n",
      "TransactionDate    0\n",
      "Amount             0\n",
      "dtype: int64\n",
      "InteractionID      0\n",
      "CustomerID         0\n",
      "InteractionType    0\n",
      "Date               0\n",
      "Notes              0\n",
      "dtype: int64\n"
     ]
    }
   ],
   "source": [
    "#PREPARE DATA FOR ANALYSIS\n",
    "#Check for null values\n",
    "print(df_customers.isnull().sum())\n",
    "print(df_transactions.isnull().sum())\n",
    "print( df_Interaction.isnull().sum())"
   ]
  },
  {
   "cell_type": "code",
   "execution_count": 8,
   "id": "d76fb6b6-e673-417e-a58c-f4ae2ebc1d20",
   "metadata": {},
   "outputs": [
    {
     "name": "stdout",
     "output_type": "stream",
     "text": [
      "     CustomerID FirstName LastName                       Email      Phone  \\\n",
      "0             1     ayaat    ahmed     ayaat.ahmed@example.com   555-1111   \n",
      "1             2     shahd    ahmed     shahd.ahmed@example.com   555-2222   \n",
      "2             3    maryam  mohamed  maryam.mohamed@example.com   555-3333   \n",
      "3             4     renad  haytham   renad.haytham@example.com   555-4444   \n",
      "4             5     salma   ashraf    salma.ashraf@example.com   555-5555   \n",
      "..          ...       ...      ...                         ...        ...   \n",
      "199         200      Ella    Brown      ella.brown@example.com   555-0171   \n",
      "200         205     David    Smith     david.smith@example.com   555-5555   \n",
      "201         207     Chris      Lee           chris.lee@invalid   555-7777   \n",
      "202         209     James   Wilson    james.wilson@example.com   555-9999   \n",
      "203         210      Lisa    Smith      lisa.smith@example.com   555-0000   \n",
      "\n",
      "             Address  \n",
      "0         123 Elm St  \n",
      "1         456 Oak St  \n",
      "2        789 Pine St  \n",
      "3      101 Maple Ave  \n",
      "4       202 Birch Rd  \n",
      "..               ...  \n",
      "199    17777 Pine St  \n",
      "200       101 Oak St  \n",
      "201   404 Birch Blvd  \n",
      "202    606 Spruce St  \n",
      "203       707 Fir Ct  \n",
      "\n",
      "[204 rows x 6 columns]\n"
     ]
    }
   ],
   "source": [
    "print(df_customers)"
   ]
  },
  {
   "cell_type": "code",
   "execution_count": 9,
   "id": "e97f421b-aacf-444b-8406-5c7d60ac370d",
   "metadata": {},
   "outputs": [],
   "source": [
    "#remove duplicate values\n",
    "df_customers.drop_duplicates(inplace=True)"
   ]
  },
  {
   "cell_type": "code",
   "execution_count": 10,
   "id": "8841a709-820c-4f83-8b5b-115faf1f3979",
   "metadata": {},
   "outputs": [
    {
     "data": {
      "text/plain": [
       "<Axes: xlabel='Amount'>"
      ]
     },
     "execution_count": 10,
     "metadata": {},
     "output_type": "execute_result"
    },
    {
     "data": {
      "image/png": "[encoded data removed]",
      "text/plain": [
       "<Figure size 640x480 with 1 Axes>"
      ]
     },
     "metadata": {},
     "output_type": "display_data"
    }
   ],
   "source": [
    "#Detect outliers using boxplots\n",
    "import seaborn as sns\n",
    "sns.boxplot(x=df_transactions['Amount'])"
   ]
  },
  {
   "cell_type": "code",
   "execution_count": 11,
   "id": "0e8b76ed-71aa-4e63-974d-519897b0fe5e",
   "metadata": {},
   "outputs": [
    {
     "name": "stdout",
     "output_type": "stream",
     "text": [
      "CustomerID\n",
      "1      2\n",
      "2      1\n",
      "3      2\n",
      "4      2\n",
      "5      1\n",
      "      ..\n",
      "200    1\n",
      "205    1\n",
      "207    1\n",
      "209    1\n",
      "210    1\n",
      "Length: 204, dtype: int64\n"
     ]
    }
   ],
   "source": [
    "# Count the number of interactions per customer\n",
    "customer_interactions = df_Interaction.groupby('CustomerID').size()\n",
    "print(customer_interactions)"
   ]
  },
  {
   "cell_type": "code",
   "execution_count": 12,
   "id": "7ac9d00c-63d2-4ef3-8dc7-bda92e68b1fe",
   "metadata": {},
   "outputs": [
    {
     "name": "stdout",
     "output_type": "stream",
     "text": [
      "Month\n",
      "2024-01    11\n",
      "2024-02    29\n",
      "2024-03    31\n",
      "2024-04    30\n",
      "2024-05    31\n",
      "2024-06    30\n",
      "2024-07    23\n",
      "2024-08     2\n",
      "2024-09    21\n",
      "Freq: M, dtype: int64\n"
     ]
    }
   ],
   "source": [
    "# Ensure that the 'Date' column is in datetime format\n",
    "df_Interaction['Date'] = pd.to_datetime(df_Interaction['Date'], errors='coerce')\n",
    "\n",
    "# Check if there are any NaT (Not a Time) values after conversion\n",
    "if df_Interaction['Date'].isnull().sum() > 0:\n",
    "    print(\"Warning: Some dates could not be converted.\")\n",
    "    \n",
    "# Extract month and year from date\n",
    "df_Interaction['Month'] = df_Interaction['Date'].dt.to_period('M')\n",
    "month_interactions = df_Interaction.groupby('Month').size()\n",
    "\n",
    "print(month_interactions)"
   ]
  },
  {
   "cell_type": "code",
   "execution_count": 13,
   "id": "36947bcd-8ece-4885-b77e-effbac89fbef",
   "metadata": {},
   "outputs": [
    {
     "name": "stdout",
     "output_type": "stream",
     "text": [
      "InteractionType\n",
      " Email         62\n",
      " Meeting       61\n",
      " Phone Call    62\n",
      "Email           8\n",
      "Meeting         7\n",
      "Phone Call      8\n",
      "dtype: int64\n"
     ]
    }
   ],
   "source": [
    "# count the number of interactions of each type.\n",
    "interaction_counts = df_Interaction.groupby('InteractionType').size()\n",
    "print(interaction_counts)"
   ]
  },
  {
   "cell_type": "code",
   "execution_count": 27,
   "id": "929b4fb7-0daf-4251-94b1-4b370dd8d86b",
   "metadata": {},
   "outputs": [
    {
     "data": {
      "image/png": "[encoded data removed]",
      "text/plain": [
       "<Figure size 640x480 with 1 Axes>"
      ]
     },
     "metadata": {},
     "output_type": "display_data"
    }
   ],
   "source": [
    "import matplotlib.pyplot as plt\n",
    "interaction_counts.plot(kind='bar')\n",
    "plt.title('Interaction Types Count')\n",
    "plt.xlabel('Interaction Type')\n",
    "plt.ylabel('Count')\n",
    "plt.show()\n"
   ]
  },
  {
   "cell_type": "code",
   "execution_count": 14,
   "id": "2e60c868-9154-40e0-83fa-46123aa3da82",
   "metadata": {},
   "outputs": [
    {
     "name": "stdout",
     "output_type": "stream",
     "text": [
      "     CustomerID FirstName LastName                      Email      Phone  \\\n",
      "0             1     ayaat    ahmed    ayaat.ahmed@example.com   555-1111   \n",
      "1             1     ayaat    ahmed    ayaat.ahmed@example.com   555-1111   \n",
      "2             1     ayaat    ahmed    ayaat.ahmed@example.com   555-1111   \n",
      "3             1     ayaat    ahmed    ayaat.ahmed@example.com   555-1111   \n",
      "4             1     ayaat    ahmed    ayaat.ahmed@example.com   555-1111   \n",
      "..          ...       ...      ...                        ...        ...   \n",
      "310         200      Ella    Brown     ella.brown@example.com   555-0171   \n",
      "311         205     David    Smith    david.smith@example.com   555-5555   \n",
      "312         207     Chris      Lee          chris.lee@invalid   555-7777   \n",
      "313         209     James   Wilson   james.wilson@example.com   555-9999   \n",
      "314         210      Lisa    Smith     lisa.smith@example.com   555-0000   \n",
      "\n",
      "             Address  InteractionID_x InteractionType       Date  \\\n",
      "0         123 Elm St                1      Phone Call 2024-09-01   \n",
      "1         123 Elm St                1      Phone Call 2024-09-01   \n",
      "2         123 Elm St                1      Phone Call 2024-09-01   \n",
      "3         123 Elm St               23         Meeting 2024-08-30   \n",
      "4         123 Elm St               23         Meeting 2024-08-30   \n",
      "..               ...              ...             ...        ...   \n",
      "310    17777 Pine St              204           Email 2024-07-19   \n",
      "311       101 Oak St              205      Phone Call 2024-07-24   \n",
      "312   404 Birch Blvd              206         Meeting 2024-07-26   \n",
      "313    606 Spruce St              207           Email 2024-07-28   \n",
      "314       707 Fir Ct              208         Meeting 2024-07-29   \n",
      "\n",
      "                              Notes    Month  TransactionID  InteractionID_y  \\\n",
      "0    Discussed new product options.  2024-09            2.0              1.0   \n",
      "1    Discussed new product options.  2024-09           24.0              1.0   \n",
      "2    Discussed new product options.  2024-09           25.0              1.0   \n",
      "3             Reviewed past orders.  2024-08            2.0              1.0   \n",
      "4             Reviewed past orders.  2024-08           24.0              1.0   \n",
      "..                              ...      ...            ...              ...   \n",
      "310           Follow-up on proposal  2024-07           34.0             11.0   \n",
      "311               Confirmed details  2024-07            NaN              NaN   \n",
      "312                    Final review  2024-07          203.0              6.0   \n",
      "313            Follow-up on support  2024-07          204.0              8.0   \n",
      "314              Review of progress  2024-07          205.0              9.0   \n",
      "\n",
      "    TransactionDate  Amount  \n",
      "0        2024-09-01   100.0  \n",
      "1        2024-08-30   500.0  \n",
      "2        2024-10-01   100.0  \n",
      "3        2024-09-01   100.0  \n",
      "4        2024-08-30   500.0  \n",
      "..              ...     ...  \n",
      "310      2024-10-11   600.0  \n",
      "311             NaT     NaN  \n",
      "312      2023-01-01   300.0  \n",
      "313      2023-01-03   450.0  \n",
      "314      2023-01-04   500.0  \n",
      "\n",
      "[315 rows x 15 columns]\n"
     ]
    }
   ],
   "source": [
    "# PREDICTIVE MODEL\n",
    "#merge tables\n",
    "df_combined = pd.merge(df_customers, df_Interaction, on='CustomerID', how='left')\n",
    "df_combined = pd.merge(df_combined, df_transactions, on='CustomerID', how='left')\n",
    "print(df_combined)"
   ]
  },
  {
   "cell_type": "code",
   "execution_count": 15,
   "id": "216d040b-c75b-4ed2-9543-2708e68dc8fa",
   "metadata": {},
   "outputs": [
    {
     "name": "stdout",
     "output_type": "stream",
     "text": [
      "     CustomerID  Total_Interactions  Total_Amount_Spent  Predicted_Churn\n",
      "40           16                   2               990.0                0\n",
      "29           10                   2               950.0                0\n",
      "226         116                   1                 0.0                0\n",
      "167          79                   2             19300.0                1\n",
      "143          67                   2             14500.0                1\n",
      "101          46                   2              6100.0                1\n",
      "243         133                   1                 0.0                0\n",
      "272         162                   1                 0.0                0\n",
      "312         207                   1               300.0                1\n",
      "292         182                   1                 0.0                0\n",
      "149          70                   2             15700.0                1\n",
      "274         164                   1                 0.0                0\n",
      "278         168                   1                 0.0                0\n",
      "263         153                   1                 0.0                0\n",
      "123          57                   2             10500.0                1\n",
      "302         192                   1                 0.0                0\n",
      "45           19                   2              1180.0                0\n",
      "169          80                   2             19700.0                1\n",
      "121          56                   2             10100.0                1\n",
      "257         147                   1                 0.0                0\n",
      "288         178                   1                 0.0                0\n",
      "205          98                   2             26900.0                1\n",
      "201          96                   2             26100.0                1\n",
      "71           31                   2               950.0                1\n",
      "238         128                   1                 0.0                0\n",
      "42           17                   1               210.0                1\n",
      "285         175                   1                 0.0                0\n",
      "183          87                   2             22500.0                1\n",
      "246         136                   1                 0.0                0\n",
      "235         125                   1                 0.0                0\n",
      "141          66                   2             14100.0                1\n",
      "147          69                   2             15300.0                1\n",
      "239         129                   1                 0.0                0\n",
      "145          68                   2             14900.0                1\n",
      "163          77                   2             18500.0                1\n",
      "211         101                   1                 0.0                0\n",
      "251         141                   1                 0.0                0\n",
      "249         139                   1                 0.0                0\n",
      "255         145                   1                 0.0                0\n",
      "179          85                   2             21700.0                1\n",
      "175          83                   2             20900.0                1\n"
     ]
    }
   ],
   "source": [
    "import pandas as pd\n",
    "from sklearn.model_selection import train_test_split\n",
    "from sklearn.ensemble import RandomForestClassifier\n",
    "\n",
    "\n",
    "df_combined['Total_Interactions'] = df_combined.groupby('CustomerID')['InteractionID_x'].transform('count')\n",
    "df_combined['Total_Transactions'] = df_combined.groupby('CustomerID')['TransactionID'].transform('count')\n",
    "df_combined['Total_Amount_Spent'] = df_combined.groupby('CustomerID')['Amount'].transform('sum')\n",
    "df_combined['Last_Transaction_Date'] = df_combined.groupby('CustomerID')['TransactionDate'].transform('max')\n",
    "df_combined['Days_Since_Last_Transaction'] = (pd.Timestamp('2024-10-21') - df_combined['Last_Transaction_Date']).dt.days\n",
    "\n",
    "# Label Creation: Assume churned if no transaction in last 30 days\n",
    "df_combined['Churn'] = df_combined['Days_Since_Last_Transaction'].apply(lambda x: 1 if x > 30 else 0)\n",
    "# Remove duplicates by CustomerID to have one row per customer\n",
    "df_clean = df_combined.drop_duplicates(subset='CustomerID')\n",
    "\n",
    "# Features and Target\n",
    "X = df_clean[['Total_Interactions', 'Total_Transactions', 'Total_Amount_Spent', 'Days_Since_Last_Transaction']]\n",
    "y = df_clean['Churn']\n",
    "\n",
    "# Train-Test Split\n",
    "X_train, X_test, y_train, y_test = train_test_split(X, y, test_size=0.2, random_state=42)\n",
    "\n",
    "# Model Training\n",
    "model = RandomForestClassifier(random_state=42)\n",
    "model.fit(X_train, y_train)\n",
    "\n",
    "# Predictions for the test set\n",
    "y_pred = model.predict(X_test)\n",
    "\n",
    "# Output the results\n",
    "results = pd.DataFrame({\n",
    "    'CustomerID': df_clean.loc[X_test.index, 'CustomerID'],\n",
    "    'Total_Interactions': df_clean.loc[X_test.index, 'Total_Interactions'],\n",
    "    'Total_Amount_Spent': df_clean.loc[X_test.index, 'Total_Amount_Spent'],\n",
    "    'Predicted_Churn': y_pred\n",
    "})\n",
    "\n",
    "\n",
    "print(results)"
   ]
  },
  {
   "cell_type": "code",
   "execution_count": null,
   "id": "a163a063-9406-4ee8-9df7-7b059bd0ffbf",
   "metadata": {},
   "outputs": [],
   "source": []
  }
 ],
 "metadata": {
  "kernelspec": {
   "display_name": "Python 3 (ipykernel)",
   "language": "python",
   "name": "python3"
  },
  "language_info": {
   "codemirror_mode": {
    "name": "ipython",
    "version": 3
   },
   "file_extension": ".py",
   "mimetype": "text/x-python",
   "name": "python",
   "nbconvert_exporter": "python",
   "pygments_lexer": "ipython3",
   "version": "3.12.4"
  }
 },
 "nbformat": 4,
 "nbformat_minor": 5
}
